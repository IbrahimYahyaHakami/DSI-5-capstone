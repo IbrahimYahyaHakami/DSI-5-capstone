{
 "cells": [
  {
   "cell_type": "code",
   "execution_count": 1,
   "metadata": {},
   "outputs": [
    {
     "name": "stderr",
     "output_type": "stream",
     "text": [
      "ERROR:fbprophet:Importing plotly failed. Interactive plots will not work.\n"
     ]
    }
   ],
   "source": [
    "# imports libraries\n",
    "import pandas as pd\n",
    "import numpy as np\n",
    "%matplotlib inline\n",
    "\n",
    "# Load specific forecasting tools\n",
    "from statsmodels.graphics.tsaplots import plot_acf,plot_pacf # for determining (p,q) orders\n",
    "from statsmodels.tsa.seasonal import seasonal_decompose      # for ETS Plots\n",
    "from fbprophet import Prophet\n",
    "from statsmodels.tsa.stattools import adfuller\n",
    "\n",
    "# Load specific evaluation tools\n",
    "from sklearn.metrics import mean_squared_error\n",
    "from statsmodels.tools.eval_measures import rmse\n",
    "from sklearn.metrics import r2_score\n",
    "\n",
    "# Ignore harmless warnings\n",
    "import warnings\n",
    "warnings.filterwarnings(\"ignore\")\n",
    "\n",
    "import matplotlib.pyplot as plt\n",
    "import time\n",
    "from datetime import datetime\n",
    "\n",
    "# Lines below are just to ignore warnings\n",
    "import warnings\n",
    "warnings.filterwarnings('ignore')"
   ]
  },
  {
   "cell_type": "code",
   "execution_count": 2,
   "metadata": {},
   "outputs": [
    {
     "data": {
      "text/html": [
       "<div>\n",
       "<style scoped>\n",
       "    .dataframe tbody tr th:only-of-type {\n",
       "        vertical-align: middle;\n",
       "    }\n",
       "\n",
       "    .dataframe tbody tr th {\n",
       "        vertical-align: top;\n",
       "    }\n",
       "\n",
       "    .dataframe thead th {\n",
       "        text-align: right;\n",
       "    }\n",
       "</style>\n",
       "<table border=\"1\" class=\"dataframe\">\n",
       "  <thead>\n",
       "    <tr style=\"text-align: right;\">\n",
       "      <th></th>\n",
       "      <th>COA</th>\n",
       "      <th>temp</th>\n",
       "      <th>year</th>\n",
       "      <th>quarter</th>\n",
       "      <th>month</th>\n",
       "      <th>day</th>\n",
       "      <th>weekday_0</th>\n",
       "      <th>weekday_1</th>\n",
       "      <th>weekday_2</th>\n",
       "      <th>weekday_3</th>\n",
       "      <th>weekday_4</th>\n",
       "      <th>weekday_5</th>\n",
       "      <th>weekday_6</th>\n",
       "    </tr>\n",
       "    <tr>\n",
       "      <th>Time</th>\n",
       "      <th></th>\n",
       "      <th></th>\n",
       "      <th></th>\n",
       "      <th></th>\n",
       "      <th></th>\n",
       "      <th></th>\n",
       "      <th></th>\n",
       "      <th></th>\n",
       "      <th></th>\n",
       "      <th></th>\n",
       "      <th></th>\n",
       "      <th></th>\n",
       "      <th></th>\n",
       "    </tr>\n",
       "  </thead>\n",
       "  <tbody>\n",
       "    <tr>\n",
       "      <th>2012-01-01 01:00:00</th>\n",
       "      <td>5986.0</td>\n",
       "      <td>13.98</td>\n",
       "      <td>2012</td>\n",
       "      <td>1</td>\n",
       "      <td>1</td>\n",
       "      <td>1</td>\n",
       "      <td>0</td>\n",
       "      <td>0</td>\n",
       "      <td>0</td>\n",
       "      <td>0</td>\n",
       "      <td>0</td>\n",
       "      <td>0</td>\n",
       "      <td>1</td>\n",
       "    </tr>\n",
       "    <tr>\n",
       "      <th>2012-01-01 02:00:00</th>\n",
       "      <td>5547.0</td>\n",
       "      <td>11.98</td>\n",
       "      <td>2012</td>\n",
       "      <td>1</td>\n",
       "      <td>1</td>\n",
       "      <td>1</td>\n",
       "      <td>0</td>\n",
       "      <td>0</td>\n",
       "      <td>0</td>\n",
       "      <td>0</td>\n",
       "      <td>0</td>\n",
       "      <td>0</td>\n",
       "      <td>1</td>\n",
       "    </tr>\n",
       "    <tr>\n",
       "      <th>2012-01-01 03:00:00</th>\n",
       "      <td>5233.0</td>\n",
       "      <td>11.98</td>\n",
       "      <td>2012</td>\n",
       "      <td>1</td>\n",
       "      <td>1</td>\n",
       "      <td>1</td>\n",
       "      <td>0</td>\n",
       "      <td>0</td>\n",
       "      <td>0</td>\n",
       "      <td>0</td>\n",
       "      <td>0</td>\n",
       "      <td>0</td>\n",
       "      <td>1</td>\n",
       "    </tr>\n",
       "    <tr>\n",
       "      <th>2012-01-01 04:00:00</th>\n",
       "      <td>5150.0</td>\n",
       "      <td>11.98</td>\n",
       "      <td>2012</td>\n",
       "      <td>1</td>\n",
       "      <td>1</td>\n",
       "      <td>1</td>\n",
       "      <td>0</td>\n",
       "      <td>0</td>\n",
       "      <td>0</td>\n",
       "      <td>0</td>\n",
       "      <td>0</td>\n",
       "      <td>0</td>\n",
       "      <td>1</td>\n",
       "    </tr>\n",
       "    <tr>\n",
       "      <th>2012-01-01 05:00:00</th>\n",
       "      <td>5235.0</td>\n",
       "      <td>11.98</td>\n",
       "      <td>2012</td>\n",
       "      <td>1</td>\n",
       "      <td>1</td>\n",
       "      <td>1</td>\n",
       "      <td>0</td>\n",
       "      <td>0</td>\n",
       "      <td>0</td>\n",
       "      <td>0</td>\n",
       "      <td>0</td>\n",
       "      <td>0</td>\n",
       "      <td>1</td>\n",
       "    </tr>\n",
       "  </tbody>\n",
       "</table>\n",
       "</div>"
      ],
      "text/plain": [
       "                        COA   temp  year  quarter  month  day  weekday_0  \\\n",
       "Time                                                                       \n",
       "2012-01-01 01:00:00  5986.0  13.98  2012        1      1    1          0   \n",
       "2012-01-01 02:00:00  5547.0  11.98  2012        1      1    1          0   \n",
       "2012-01-01 03:00:00  5233.0  11.98  2012        1      1    1          0   \n",
       "2012-01-01 04:00:00  5150.0  11.98  2012        1      1    1          0   \n",
       "2012-01-01 05:00:00  5235.0  11.98  2012        1      1    1          0   \n",
       "\n",
       "                     weekday_1  weekday_2  weekday_3  weekday_4  weekday_5  \\\n",
       "Time                                                                         \n",
       "2012-01-01 01:00:00          0          0          0          0          0   \n",
       "2012-01-01 02:00:00          0          0          0          0          0   \n",
       "2012-01-01 03:00:00          0          0          0          0          0   \n",
       "2012-01-01 04:00:00          0          0          0          0          0   \n",
       "2012-01-01 05:00:00          0          0          0          0          0   \n",
       "\n",
       "                     weekday_6  \n",
       "Time                            \n",
       "2012-01-01 01:00:00          1  \n",
       "2012-01-01 02:00:00          1  \n",
       "2012-01-01 03:00:00          1  \n",
       "2012-01-01 04:00:00          1  \n",
       "2012-01-01 05:00:00          1  "
      ]
     },
     "execution_count": 2,
     "metadata": {},
     "output_type": "execute_result"
    }
   ],
   "source": [
    "# read dataset and show the first 5 rows\n",
    "df = pd.read_csv('../dataset/full_COA.csv.' , index_col='Time',parse_dates=True)\n",
    "df.head()"
   ]
  },
  {
   "cell_type": "code",
   "execution_count": 3,
   "metadata": {},
   "outputs": [
    {
     "data": {
      "text/html": [
       "<div>\n",
       "<style scoped>\n",
       "    .dataframe tbody tr th:only-of-type {\n",
       "        vertical-align: middle;\n",
       "    }\n",
       "\n",
       "    .dataframe tbody tr th {\n",
       "        vertical-align: top;\n",
       "    }\n",
       "\n",
       "    .dataframe thead th {\n",
       "        text-align: right;\n",
       "    }\n",
       "</style>\n",
       "<table border=\"1\" class=\"dataframe\">\n",
       "  <thead>\n",
       "    <tr style=\"text-align: right;\">\n",
       "      <th></th>\n",
       "      <th>COA</th>\n",
       "      <th>temp</th>\n",
       "      <th>year</th>\n",
       "      <th>quarter</th>\n",
       "      <th>month</th>\n",
       "      <th>day</th>\n",
       "      <th>weekday_0</th>\n",
       "      <th>weekday_1</th>\n",
       "      <th>weekday_2</th>\n",
       "      <th>weekday_3</th>\n",
       "      <th>weekday_4</th>\n",
       "      <th>weekday_5</th>\n",
       "      <th>weekday_6</th>\n",
       "    </tr>\n",
       "    <tr>\n",
       "      <th>Time</th>\n",
       "      <th></th>\n",
       "      <th></th>\n",
       "      <th></th>\n",
       "      <th></th>\n",
       "      <th></th>\n",
       "      <th></th>\n",
       "      <th></th>\n",
       "      <th></th>\n",
       "      <th></th>\n",
       "      <th></th>\n",
       "      <th></th>\n",
       "      <th></th>\n",
       "      <th></th>\n",
       "    </tr>\n",
       "  </thead>\n",
       "  <tbody>\n",
       "    <tr>\n",
       "      <th>2017-12-31 19:00:00</th>\n",
       "      <td>9495.0</td>\n",
       "      <td>18.98</td>\n",
       "      <td>2017</td>\n",
       "      <td>4</td>\n",
       "      <td>12</td>\n",
       "      <td>31</td>\n",
       "      <td>0</td>\n",
       "      <td>0</td>\n",
       "      <td>0</td>\n",
       "      <td>0</td>\n",
       "      <td>0</td>\n",
       "      <td>0</td>\n",
       "      <td>1</td>\n",
       "    </tr>\n",
       "    <tr>\n",
       "      <th>2017-12-31 20:00:00</th>\n",
       "      <td>9365.0</td>\n",
       "      <td>16.98</td>\n",
       "      <td>2017</td>\n",
       "      <td>4</td>\n",
       "      <td>12</td>\n",
       "      <td>31</td>\n",
       "      <td>0</td>\n",
       "      <td>0</td>\n",
       "      <td>0</td>\n",
       "      <td>0</td>\n",
       "      <td>0</td>\n",
       "      <td>0</td>\n",
       "      <td>1</td>\n",
       "    </tr>\n",
       "    <tr>\n",
       "      <th>2017-12-31 21:00:00</th>\n",
       "      <td>9250.0</td>\n",
       "      <td>15.98</td>\n",
       "      <td>2017</td>\n",
       "      <td>4</td>\n",
       "      <td>12</td>\n",
       "      <td>31</td>\n",
       "      <td>0</td>\n",
       "      <td>0</td>\n",
       "      <td>0</td>\n",
       "      <td>0</td>\n",
       "      <td>0</td>\n",
       "      <td>0</td>\n",
       "      <td>1</td>\n",
       "    </tr>\n",
       "    <tr>\n",
       "      <th>2017-12-31 22:00:00</th>\n",
       "      <td>8931.0</td>\n",
       "      <td>14.98</td>\n",
       "      <td>2017</td>\n",
       "      <td>4</td>\n",
       "      <td>12</td>\n",
       "      <td>31</td>\n",
       "      <td>0</td>\n",
       "      <td>0</td>\n",
       "      <td>0</td>\n",
       "      <td>0</td>\n",
       "      <td>0</td>\n",
       "      <td>0</td>\n",
       "      <td>1</td>\n",
       "    </tr>\n",
       "    <tr>\n",
       "      <th>2017-12-31 23:00:00</th>\n",
       "      <td>8679.0</td>\n",
       "      <td>12.98</td>\n",
       "      <td>2017</td>\n",
       "      <td>4</td>\n",
       "      <td>12</td>\n",
       "      <td>31</td>\n",
       "      <td>0</td>\n",
       "      <td>0</td>\n",
       "      <td>0</td>\n",
       "      <td>0</td>\n",
       "      <td>0</td>\n",
       "      <td>0</td>\n",
       "      <td>1</td>\n",
       "    </tr>\n",
       "  </tbody>\n",
       "</table>\n",
       "</div>"
      ],
      "text/plain": [
       "                        COA   temp  year  quarter  month  day  weekday_0  \\\n",
       "Time                                                                       \n",
       "2017-12-31 19:00:00  9495.0  18.98  2017        4     12   31          0   \n",
       "2017-12-31 20:00:00  9365.0  16.98  2017        4     12   31          0   \n",
       "2017-12-31 21:00:00  9250.0  15.98  2017        4     12   31          0   \n",
       "2017-12-31 22:00:00  8931.0  14.98  2017        4     12   31          0   \n",
       "2017-12-31 23:00:00  8679.0  12.98  2017        4     12   31          0   \n",
       "\n",
       "                     weekday_1  weekday_2  weekday_3  weekday_4  weekday_5  \\\n",
       "Time                                                                         \n",
       "2017-12-31 19:00:00          0          0          0          0          0   \n",
       "2017-12-31 20:00:00          0          0          0          0          0   \n",
       "2017-12-31 21:00:00          0          0          0          0          0   \n",
       "2017-12-31 22:00:00          0          0          0          0          0   \n",
       "2017-12-31 23:00:00          0          0          0          0          0   \n",
       "\n",
       "                     weekday_6  \n",
       "Time                            \n",
       "2017-12-31 19:00:00          1  \n",
       "2017-12-31 20:00:00          1  \n",
       "2017-12-31 21:00:00          1  \n",
       "2017-12-31 22:00:00          1  \n",
       "2017-12-31 23:00:00          1  "
      ]
     },
     "execution_count": 3,
     "metadata": {},
     "output_type": "execute_result"
    }
   ],
   "source": [
    "# show last five rows\n",
    "df.tail()"
   ]
  },
  {
   "cell_type": "code",
   "execution_count": 4,
   "metadata": {},
   "outputs": [],
   "source": [
    "# get only megawaats and tempreture\n",
    "df_l = df[['COA','temp']]"
   ]
  },
  {
   "cell_type": "code",
   "execution_count": 5,
   "metadata": {},
   "outputs": [
    {
     "data": {
      "text/plain": [
       "52607"
      ]
     },
     "execution_count": 5,
     "metadata": {},
     "output_type": "execute_result"
    }
   ],
   "source": [
    "# show length of dataframe\n",
    "len(df_l)"
   ]
  },
  {
   "cell_type": "code",
   "execution_count": 6,
   "metadata": {},
   "outputs": [],
   "source": [
    "# assain frequebcy to hourly\n",
    "df_l.index.freq = '1H'"
   ]
  },
  {
   "cell_type": "code",
   "execution_count": 7,
   "metadata": {},
   "outputs": [],
   "source": [
    "# resample data to monthly data\n",
    "df_m = df_l.resample(rule = 'MS').mean()"
   ]
  },
  {
   "cell_type": "code",
   "execution_count": 8,
   "metadata": {},
   "outputs": [
    {
     "data": {
      "image/png": "[encoded data removed]",
      "text/plain": [
       "<Figure size 1080x360 with 1 Axes>"
      ]
     },
     "metadata": {
      "needs_background": "light"
     },
     "output_type": "display_data"
    }
   ],
   "source": [
    "# plotting daily data set\n",
    "pd.plotting.register_matplotlib_converters() # this code used to resolve some failure prophet have with pandas\n",
    "df_m.COA.plot(figsize=(15,5)).autoscale(axis='x',tight=True)"
   ]
  },
  {
   "cell_type": "code",
   "execution_count": 10,
   "metadata": {},
   "outputs": [
    {
     "data": {
      "image/png": "[encoded data removed]",
      "text/plain": [
       "<Figure size 432x288 with 4 Axes>"
      ]
     },
     "metadata": {
      "needs_background": "light"
     },
     "output_type": "display_data"
    }
   ],
   "source": [
    "# seasonal decompose for megawatts \n",
    "seasonal_decompose(df_m.COA).plot();"
   ]
  },
  {
   "cell_type": "code",
   "execution_count": 11,
   "metadata": {},
   "outputs": [
    {
     "data": {
      "image/png": "[encoded data removed]",
      "text/plain": [
       "<Figure size 432x288 with 1 Axes>"
      ]
     },
     "metadata": {
      "needs_background": "light"
     },
     "output_type": "display_data"
    }
   ],
   "source": [
    "# autocorrelation plot\n",
    "plot_acf(df_m.COA , lags=20);"
   ]
  },
  {
   "cell_type": "code",
   "execution_count": 12,
   "metadata": {},
   "outputs": [
    {
     "data": {
      "image/png": "[encoded data removed]",
      "text/plain": [
       "<Figure size 432x288 with 1 Axes>"
      ]
     },
     "metadata": {
      "needs_background": "light"
     },
     "output_type": "display_data"
    }
   ],
   "source": [
    "# partial autocorrelaton plot\n",
    "plot_pacf(df_m.COA , lags=20);"
   ]
  },
  {
   "cell_type": "code",
   "execution_count": 13,
   "metadata": {},
   "outputs": [],
   "source": [
    "# define a function to do the Dickey-Fuller Test\n",
    "\n",
    "def adf_test(series,title=''):\n",
    "    \"\"\"\n",
    "    Pass in a time series and an optional title, returns an ADF report\n",
    "    \"\"\"\n",
    "    print(f'Augmented Dickey-Fuller Test: {title}')\n",
    "    result = adfuller(series.dropna(),autolag='AIC') # .dropna() handles differenced data\n",
    "    \n",
    "    labels = ['ADF test statistic','p-value','# lags used','# observations']\n",
    "    out = pd.Series(result[0:4],index=labels)\n",
    "\n",
    "    for key,val in result[4].items():\n",
    "        out[f'critical value ({key})']=val\n",
    "        \n",
    "    print(out.to_string())          # .to_string() removes the line \"dtype: float64\"\n",
    "    \n",
    "    if result[1] <= 0.05:\n",
    "        print(\"Strong evidence against the null hypothesis\")\n",
    "        print(\"Reject the null hypothesis\")\n",
    "        print(\"Data has no unit root and is stationary\")\n",
    "    else:\n",
    "        print(\"Weak evidence against the null hypothesis\")\n",
    "        print(\"Fail to reject the null hypothesis\")\n",
    "        print(\"Data has a unit root and is non-stationary\")"
   ]
  },
  {
   "cell_type": "code",
   "execution_count": 14,
   "metadata": {},
   "outputs": [
    {
     "name": "stdout",
     "output_type": "stream",
     "text": [
      "Augmented Dickey-Fuller Test: \n",
      "ADF test statistic      -0.391346\n",
      "p-value                  0.911534\n",
      "# lags used             11.000000\n",
      "# observations          60.000000\n",
      "critical value (1%)     -3.544369\n",
      "critical value (5%)     -2.911073\n",
      "critical value (10%)    -2.593190\n",
      "Weak evidence against the null hypothesis\n",
      "Fail to reject the null hypothesis\n",
      "Data has a unit root and is non-stationary\n"
     ]
    }
   ],
   "source": [
    "# Dickey-Fuller Test for megawatts\n",
    "adf_test(df_m.COA)"
   ]
  },
  {
   "cell_type": "code",
   "execution_count": 15,
   "metadata": {},
   "outputs": [],
   "source": [
    "# reset index to prepare data frame for prophet\n",
    "df_m = df_m.reset_index()"
   ]
  },
  {
   "cell_type": "code",
   "execution_count": 17,
   "metadata": {},
   "outputs": [],
   "source": [
    "# feature engineering \n",
    "df_m['year'] = df_m['Time'].apply(lambda x: x.year)\n",
    "df_m['quarter'] = df_m['Time'].apply(lambda x: x.quarter)\n",
    "df_m['month'] = df_m['Time'].apply(lambda x: x.month)\n",
    "df_m['day'] = df_m['Time'].apply(lambda x: x.day)\n",
    "df_m[\"weekday\"]=df_m.apply(lambda row: row[\"Time\"].weekday(),axis=1)\n",
    "df_m[\"weekday\"] = df_m[\"weekday\"].astype(str)\n",
    "df_m = pd.get_dummies(df_m)"
   ]
  },
  {
   "cell_type": "code",
   "execution_count": 18,
   "metadata": {},
   "outputs": [],
   "source": [
    "# rename columns to prepare it for prophet\n",
    "df_m = df_m.rename(columns = {'Time':'ds',\n",
    "                      'COA':'y'})"
   ]
  },
  {
   "cell_type": "code",
   "execution_count": 19,
   "metadata": {},
   "outputs": [],
   "source": [
    "# define a length to split, split last year\n",
    "l_split = len(df_m[df_m.ds >= '2017-01-01 00:00:00'])"
   ]
  },
  {
   "cell_type": "code",
   "execution_count": 20,
   "metadata": {},
   "outputs": [],
   "source": [
    "# split by pre defined length\n",
    "train = df_m.iloc[:(len(df_m)-l_split)]\n",
    "test = df_m.iloc[(len(df_m)-l_split):]"
   ]
  },
  {
   "cell_type": "code",
   "execution_count": 21,
   "metadata": {},
   "outputs": [
    {
     "name": "stderr",
     "output_type": "stream",
     "text": [
      "INFO:fbprophet:Disabling weekly seasonality. Run prophet with weekly_seasonality=True to override this.\n",
      "INFO:fbprophet:Disabling daily seasonality. Run prophet with daily_seasonality=True to override this.\n"
     ]
    },
    {
     "data": {
      "text/plain": [
       "<fbprophet.forecaster.Prophet at 0x216564eba20>"
      ]
     },
     "execution_count": 21,
     "metadata": {},
     "output_type": "execute_result"
    }
   ],
   "source": [
    "# fitting the model with additional regressors\n",
    "model = Prophet()\n",
    "model.add_regressor('temp')\n",
    "model.add_regressor('year')\n",
    "model.add_regressor('quarter')\n",
    "model.add_regressor('month')\n",
    "model.add_regressor('day')\n",
    "model.add_regressor('weekday_0')\n",
    "model.add_regressor('weekday_1')\n",
    "model.add_regressor('weekday_2')\n",
    "model.add_regressor('weekday_3')\n",
    "model.add_regressor('weekday_4')\n",
    "model.add_regressor('weekday_5')\n",
    "model.add_regressor('weekday_6')\n",
    "model.fit(train)"
   ]
  },
  {
   "cell_type": "code",
   "execution_count": 22,
   "metadata": {},
   "outputs": [],
   "source": [
    "# make data frame to hold the prediction\n",
    "future = model.make_future_dataframe(periods=12 , freq='MS')"
   ]
  },
  {
   "cell_type": "code",
   "execution_count": 23,
   "metadata": {},
   "outputs": [],
   "source": [
    "# make prediction on the data frame made \n",
    "forecast = model.predict(test.drop(columns=\"y\"))"
   ]
  },
  {
   "cell_type": "code",
   "execution_count": 24,
   "metadata": {},
   "outputs": [
    {
     "data": {
      "text/plain": [
       "Index(['ds', 'trend', 'yhat_lower', 'yhat_upper', 'trend_lower', 'trend_upper',\n",
       "       'additive_terms', 'additive_terms_lower', 'additive_terms_upper', 'day',\n",
       "       'day_lower', 'day_upper', 'extra_regressors_additive',\n",
       "       'extra_regressors_additive_lower', 'extra_regressors_additive_upper',\n",
       "       'month', 'month_lower', 'month_upper', 'quarter', 'quarter_lower',\n",
       "       'quarter_upper', 'temp', 'temp_lower', 'temp_upper', 'weekday_0',\n",
       "       'weekday_0_lower', 'weekday_0_upper', 'weekday_1', 'weekday_1_lower',\n",
       "       'weekday_1_upper', 'weekday_2', 'weekday_2_lower', 'weekday_2_upper',\n",
       "       'weekday_3', 'weekday_3_lower', 'weekday_3_upper', 'weekday_4',\n",
       "       'weekday_4_lower', 'weekday_4_upper', 'weekday_5', 'weekday_5_lower',\n",
       "       'weekday_5_upper', 'weekday_6', 'weekday_6_lower', 'weekday_6_upper',\n",
       "       'year', 'year_lower', 'year_upper', 'yearly', 'yearly_lower',\n",
       "       'yearly_upper', 'multiplicative_terms', 'multiplicative_terms_lower',\n",
       "       'multiplicative_terms_upper', 'yhat'],\n",
       "      dtype='object')"
      ]
     },
     "execution_count": 24,
     "metadata": {},
     "output_type": "execute_result"
    }
   ],
   "source": [
    "# check predictionn columns\n",
    "forecast.columns"
   ]
  },
  {
   "cell_type": "code",
   "execution_count": 25,
   "metadata": {},
   "outputs": [
    {
     "data": {
      "text/html": [
       "<div>\n",
       "<style scoped>\n",
       "    .dataframe tbody tr th:only-of-type {\n",
       "        vertical-align: middle;\n",
       "    }\n",
       "\n",
       "    .dataframe tbody tr th {\n",
       "        vertical-align: top;\n",
       "    }\n",
       "\n",
       "    .dataframe thead th {\n",
       "        text-align: right;\n",
       "    }\n",
       "</style>\n",
       "<table border=\"1\" class=\"dataframe\">\n",
       "  <thead>\n",
       "    <tr style=\"text-align: right;\">\n",
       "      <th></th>\n",
       "      <th>ds</th>\n",
       "      <th>trend</th>\n",
       "      <th>yhat_lower</th>\n",
       "      <th>yhat_upper</th>\n",
       "      <th>trend_lower</th>\n",
       "      <th>trend_upper</th>\n",
       "      <th>additive_terms</th>\n",
       "      <th>additive_terms_lower</th>\n",
       "      <th>additive_terms_upper</th>\n",
       "      <th>day</th>\n",
       "      <th>...</th>\n",
       "      <th>year</th>\n",
       "      <th>year_lower</th>\n",
       "      <th>year_upper</th>\n",
       "      <th>yearly</th>\n",
       "      <th>yearly_lower</th>\n",
       "      <th>yearly_upper</th>\n",
       "      <th>multiplicative_terms</th>\n",
       "      <th>multiplicative_terms_lower</th>\n",
       "      <th>multiplicative_terms_upper</th>\n",
       "      <th>yhat</th>\n",
       "    </tr>\n",
       "  </thead>\n",
       "  <tbody>\n",
       "    <tr>\n",
       "      <th>7</th>\n",
       "      <td>2017-08-01</td>\n",
       "      <td>-36913.788094</td>\n",
       "      <td>16198.456492</td>\n",
       "      <td>17223.025768</td>\n",
       "      <td>-36916.255464</td>\n",
       "      <td>-36911.502115</td>\n",
       "      <td>53639.857230</td>\n",
       "      <td>53639.857230</td>\n",
       "      <td>53639.857230</td>\n",
       "      <td>20747.648809</td>\n",
       "      <td>...</td>\n",
       "      <td>24473.276866</td>\n",
       "      <td>24473.276866</td>\n",
       "      <td>24473.276866</td>\n",
       "      <td>-3086.275436</td>\n",
       "      <td>-3086.275436</td>\n",
       "      <td>-3086.275436</td>\n",
       "      <td>0.0</td>\n",
       "      <td>0.0</td>\n",
       "      <td>0.0</td>\n",
       "      <td>16726.069136</td>\n",
       "    </tr>\n",
       "    <tr>\n",
       "      <th>8</th>\n",
       "      <td>2017-09-01</td>\n",
       "      <td>-37556.072950</td>\n",
       "      <td>14749.558348</td>\n",
       "      <td>15823.813014</td>\n",
       "      <td>-37558.998643</td>\n",
       "      <td>-37553.343650</td>\n",
       "      <td>52839.613842</td>\n",
       "      <td>52839.613842</td>\n",
       "      <td>52839.613842</td>\n",
       "      <td>20747.648809</td>\n",
       "      <td>...</td>\n",
       "      <td>24473.276866</td>\n",
       "      <td>24473.276866</td>\n",
       "      <td>24473.276866</td>\n",
       "      <td>6249.811296</td>\n",
       "      <td>6249.811296</td>\n",
       "      <td>6249.811296</td>\n",
       "      <td>0.0</td>\n",
       "      <td>0.0</td>\n",
       "      <td>0.0</td>\n",
       "      <td>15283.540892</td>\n",
       "    </tr>\n",
       "    <tr>\n",
       "      <th>9</th>\n",
       "      <td>2017-10-01</td>\n",
       "      <td>-38177.638940</td>\n",
       "      <td>11627.211233</td>\n",
       "      <td>12650.654925</td>\n",
       "      <td>-38181.137885</td>\n",
       "      <td>-38174.558704</td>\n",
       "      <td>50313.798149</td>\n",
       "      <td>50313.798149</td>\n",
       "      <td>50313.798149</td>\n",
       "      <td>20747.648809</td>\n",
       "      <td>...</td>\n",
       "      <td>24473.276866</td>\n",
       "      <td>24473.276866</td>\n",
       "      <td>24473.276866</td>\n",
       "      <td>-25292.767579</td>\n",
       "      <td>-25292.767579</td>\n",
       "      <td>-25292.767579</td>\n",
       "      <td>0.0</td>\n",
       "      <td>0.0</td>\n",
       "      <td>0.0</td>\n",
       "      <td>12136.159210</td>\n",
       "    </tr>\n",
       "    <tr>\n",
       "      <th>10</th>\n",
       "      <td>2017-11-01</td>\n",
       "      <td>-38819.923796</td>\n",
       "      <td>8866.294546</td>\n",
       "      <td>9877.780718</td>\n",
       "      <td>-38824.013580</td>\n",
       "      <td>-38816.286157</td>\n",
       "      <td>48191.109741</td>\n",
       "      <td>48191.109741</td>\n",
       "      <td>48191.109741</td>\n",
       "      <td>20747.648809</td>\n",
       "      <td>...</td>\n",
       "      <td>24473.276866</td>\n",
       "      <td>24473.276866</td>\n",
       "      <td>24473.276866</td>\n",
       "      <td>-16287.783110</td>\n",
       "      <td>-16287.783110</td>\n",
       "      <td>-16287.783110</td>\n",
       "      <td>0.0</td>\n",
       "      <td>0.0</td>\n",
       "      <td>0.0</td>\n",
       "      <td>9371.185946</td>\n",
       "    </tr>\n",
       "    <tr>\n",
       "      <th>11</th>\n",
       "      <td>2017-12-01</td>\n",
       "      <td>-39441.489785</td>\n",
       "      <td>8245.265524</td>\n",
       "      <td>9258.928020</td>\n",
       "      <td>-39446.203860</td>\n",
       "      <td>-39437.348871</td>\n",
       "      <td>48180.422075</td>\n",
       "      <td>48180.422075</td>\n",
       "      <td>48180.422075</td>\n",
       "      <td>20747.648809</td>\n",
       "      <td>...</td>\n",
       "      <td>24473.276866</td>\n",
       "      <td>24473.276866</td>\n",
       "      <td>24473.276866</td>\n",
       "      <td>-5214.982970</td>\n",
       "      <td>-5214.982970</td>\n",
       "      <td>-5214.982970</td>\n",
       "      <td>0.0</td>\n",
       "      <td>0.0</td>\n",
       "      <td>0.0</td>\n",
       "      <td>8738.932290</td>\n",
       "    </tr>\n",
       "  </tbody>\n",
       "</table>\n",
       "<p>5 rows × 55 columns</p>\n",
       "</div>"
      ],
      "text/plain": [
       "           ds         trend    yhat_lower    yhat_upper   trend_lower  \\\n",
       "7  2017-08-01 -36913.788094  16198.456492  17223.025768 -36916.255464   \n",
       "8  2017-09-01 -37556.072950  14749.558348  15823.813014 -37558.998643   \n",
       "9  2017-10-01 -38177.638940  11627.211233  12650.654925 -38181.137885   \n",
       "10 2017-11-01 -38819.923796   8866.294546   9877.780718 -38824.013580   \n",
       "11 2017-12-01 -39441.489785   8245.265524   9258.928020 -39446.203860   \n",
       "\n",
       "     trend_upper  additive_terms  additive_terms_lower  additive_terms_upper  \\\n",
       "7  -36911.502115    53639.857230          53639.857230          53639.857230   \n",
       "8  -37553.343650    52839.613842          52839.613842          52839.613842   \n",
       "9  -38174.558704    50313.798149          50313.798149          50313.798149   \n",
       "10 -38816.286157    48191.109741          48191.109741          48191.109741   \n",
       "11 -39437.348871    48180.422075          48180.422075          48180.422075   \n",
       "\n",
       "             day      ...               year    year_lower    year_upper  \\\n",
       "7   20747.648809      ...       24473.276866  24473.276866  24473.276866   \n",
       "8   20747.648809      ...       24473.276866  24473.276866  24473.276866   \n",
       "9   20747.648809      ...       24473.276866  24473.276866  24473.276866   \n",
       "10  20747.648809      ...       24473.276866  24473.276866  24473.276866   \n",
       "11  20747.648809      ...       24473.276866  24473.276866  24473.276866   \n",
       "\n",
       "          yearly  yearly_lower  yearly_upper  multiplicative_terms  \\\n",
       "7   -3086.275436  -3086.275436  -3086.275436                   0.0   \n",
       "8    6249.811296   6249.811296   6249.811296                   0.0   \n",
       "9  -25292.767579 -25292.767579 -25292.767579                   0.0   \n",
       "10 -16287.783110 -16287.783110 -16287.783110                   0.0   \n",
       "11  -5214.982970  -5214.982970  -5214.982970                   0.0   \n",
       "\n",
       "    multiplicative_terms_lower  multiplicative_terms_upper          yhat  \n",
       "7                          0.0                         0.0  16726.069136  \n",
       "8                          0.0                         0.0  15283.540892  \n",
       "9                          0.0                         0.0  12136.159210  \n",
       "10                         0.0                         0.0   9371.185946  \n",
       "11                         0.0                         0.0   8738.932290  \n",
       "\n",
       "[5 rows x 55 columns]"
      ]
     },
     "execution_count": 25,
     "metadata": {},
     "output_type": "execute_result"
    }
   ],
   "source": [
    "# show last 5 rows of forecast\n",
    "forecast.tail()"
   ]
  },
  {
   "cell_type": "code",
   "execution_count": 26,
   "metadata": {},
   "outputs": [
    {
     "data": {
      "image/png": "[encoded data removed]",
      "text/plain": [
       "<Figure size 720x432 with 1 Axes>"
      ]
     },
     "metadata": {},
     "output_type": "display_data"
    }
   ],
   "source": [
    "# plotting forcast\n",
    "model.plot(forecast);"
   ]
  },
  {
   "cell_type": "code",
   "execution_count": 27,
   "metadata": {},
   "outputs": [],
   "source": [
    "# make a seperate data set for prediction only\n",
    "predictions = forecast[['ds','yhat']][forecast.ds >='2017']"
   ]
  },
  {
   "cell_type": "code",
   "execution_count": 28,
   "metadata": {},
   "outputs": [],
   "source": [
    "# set time as index\n",
    "predictions = predictions.set_index('ds')\n",
    "test = test.set_index('ds')"
   ]
  },
  {
   "cell_type": "code",
   "execution_count": 29,
   "metadata": {},
   "outputs": [
    {
     "data": {
      "text/plain": [
       "<matplotlib.axes._subplots.AxesSubplot at 0x21656491a20>"
      ]
     },
     "execution_count": 29,
     "metadata": {},
     "output_type": "execute_result"
    },
    {
     "data": {
      "image/png": "[encoded data removed]",
      "text/plain": [
       "<Figure size 864x360 with 1 Axes>"
      ]
     },
     "metadata": {
      "needs_background": "light"
     },
     "output_type": "display_data"
    }
   ],
   "source": [
    "# plot test vs prediction\n",
    "test.y.plot(legend=True)\n",
    "predictions.yhat.plot(figsize=(12,5) , legend=True)"
   ]
  },
  {
   "cell_type": "code",
   "execution_count": 30,
   "metadata": {},
   "outputs": [
    {
     "data": {
      "text/plain": [
       "699.7963728221572"
      ]
     },
     "execution_count": 30,
     "metadata": {},
     "output_type": "execute_result"
    }
   ],
   "source": [
    "# calculate rmse\n",
    "rmse(test.y,predictions.yhat)"
   ]
  },
  {
   "cell_type": "code",
   "execution_count": 31,
   "metadata": {},
   "outputs": [
    {
     "data": {
      "text/plain": [
       "0.9658703367878109"
      ]
     },
     "execution_count": 31,
     "metadata": {},
     "output_type": "execute_result"
    }
   ],
   "source": [
    "# calculate r2 score\n",
    "r2_score(test.y , predictions.yhat)"
   ]
  },
  {
   "cell_type": "code",
   "execution_count": null,
   "metadata": {},
   "outputs": [],
   "source": []
  }
 ],
 "metadata": {
  "kernelspec": {
   "display_name": "Python 3",
   "language": "python",
   "name": "python3"
  },
  "language_info": {
   "codemirror_mode": {
    "name": "ipython",
    "version": 3
   },
   "file_extension": ".py",
   "mimetype": "text/x-python",
   "name": "python",
   "nbconvert_exporter": "python",
   "pygments_lexer": "ipython3",
   "version": "3.7.2"
  }
 },
 "nbformat": 4,
 "nbformat_minor": 4
}
